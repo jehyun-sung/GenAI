import pandas as pd
from pathlib import Path
import yaml
import re
from typing import Dict, Tuple, List

# ──────────────────────────────────────────────────────────────
# 1. Configuration
# ──────────────────────────────────────────────────────────────
BRAND_YML = Path(
    "/content/drive/MyDrive/9. Lab/BARQA/Packaging & Download/Data/brands_0519.yaml"
)
ASPT_YML = Path(
    "/content/drive/MyDrive/9. Lab/BARQA/Packaging & Download/Data/aspects_0519.yaml"
)

# Aspects that are only meaningful for Apple devices
APPLE_ONLY_ASPECTS = {
    "Camera General", "Design General", "Chipset General",
    "Sustainability General", "Portrait Studio",
    "On-device", "Grip", "Thin", "AI General",
}

APPLE_KW_RX = re.compile(r"(?i)\b(?:apple|apple's|iphone|아이폰|애플)\b")

# ──────────────────────────────────────────────────────────────
# 2. Helper Functions
# ──────────────────────────────────────────────────────────────
def _load_yaml(path: Path) -> Dict[str, str]:
    """Load a YAML file as a dictionary"""
    with path.open(encoding="utf-8") as f:
        return yaml.safe_load(f)

def _compile_dict(src: Dict[str, str], flags: int = 0) -> Dict[str, re.Pattern]:
    """Compile a dictionary of regex patterns"""
    return {k: re.compile(v, flags) for k, v in src.items()}

# ──────────────────────────────────────────────────────────────
# 3. Main Class
# ──────────────────────────────────────────────────────────────
class BrandClassifier:
    def __init__(self) -> None:
        self.brand_rx  = _compile_dict(_load_yaml(BRAND_YML), flags=re.I)
        self.aspect_rx = _compile_dict(_load_yaml(ASPT_YML), flags=re.I)

    def classify(
        self, text: str, used_llm: bool = False
    ) -> Tuple[List[str], List[str], List[str], List[str]]:
        """Extract brand/aspect mentions from text and return them as a 4-tuple"""

        brand_hits   = [(br, m.start()) for br, rx in self.brand_rx.items() if (m := rx.search(text))]
        aspect_hits  = [(ap, m.start()) for ap, rx in self.aspect_rx.items()  if (m := rx.search(text))]

        brand_hits.sort(key=lambda x: x[1])
        aspect_hits.sort(key=lambda x: x[1])

        detected_brands   = [b for b, _ in brand_hits]
        detected_aspects  = [a for a, _ in aspect_hits]

        # 2) Handle Apple-only aspects
        final_brands, final_aspects = [], []
        for asp in detected_aspects:
            if asp not in APPLE_ONLY_ASPECTS:
                # General aspects → assume Apple if no brand specified
                final_brands.append("Apple")
                final_aspects.append(asp)
            else:
                # For Apple-specific aspects, confirm actual Apple mention
                if "Apple" in detected_brands or APPLE_KW_RX.search(text):
                    final_brands.append("Apple")
                    final_aspects.append(asp)
                else:
                    # Mark invalid aspect to allow for human post-processing
                    final_brands.append("Unknown")
                    final_aspects.append("brand_required_aspect_detected")

        # 3) If only brand detected but no aspect, mirror brands to aspects
        if not detected_aspects and detected_brands:
            final_brands  = list(set(detected_brands))
            final_aspects = final_brands.copy()

        # 4) Fallback defaults
        if not final_brands:
            final_brands = ["Unknown"]
        if not final_aspects:
            final_aspects = ["general"]

        # 5) Add other brands also as aspects
        others = [b for b in detected_brands if b != "Apple"]
        final_brands.extend(others)
        final_aspects.extend(others)

        # 6) Clean up: remove duplicates and invalid flags
        final_brands  = [b for b in dict.fromkeys(final_brands)  if b != "Unknown"]
        final_aspects = [
            a for a in dict.fromkeys(final_aspects)
            if a not in {"Unknown", "brand_required_aspect_detected"}
        ]

        return final_brands, final_aspects, detected_brands, detected_aspects
